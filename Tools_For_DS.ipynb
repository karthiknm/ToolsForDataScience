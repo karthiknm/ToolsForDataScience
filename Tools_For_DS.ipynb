{
 "cells": [
  {
   "cell_type": "markdown",
   "id": "c0b2c758-e351-43dc-ae5d-6cd04b195717",
   "metadata": {},
   "source": [
    "# Tools for Data Science: Peer Graded Assignment"
   ]
  },
  {
   "cell_type": "markdown",
   "id": "9ad4fc5c-ed53-441c-9e3d-a9be2d7b75e0",
   "metadata": {},
   "source": [
    "## Introduction"
   ]
  },
  {
   "cell_type": "markdown",
   "id": "a0fc2505-f532-41d4-bed6-c2067ce3a4c7",
   "metadata": {},
   "source": [
    "Data Science Languages:\n",
    "1. Python\n",
    "2. R\n",
    "3. Scala\n",
    "4. SQL\n",
    "5. Julia"
   ]
  },
  {
   "cell_type": "markdown",
   "id": "9e81abb6-9977-409e-b1e8-41018ce60124",
   "metadata": {},
   "source": [
    "Data Science Libraries:\n",
    "1. Tensorflow\n",
    "2. Panda\n",
    "3. NumPy\n",
    "4. Scikit Learn\n",
    "5. PyTorch"
   ]
  },
  {
   "cell_type": "markdown",
   "id": "61661211-94d0-4f4e-98b6-33cb87ec039b",
   "metadata": {},
   "source": [
    "| S.No | Tool        |\n",
    "| -----| ----------- |\n",
    "| 1    | Jupyter Notebook |\n",
    "| 2    | Github      |\n",
    "| 3   | Apache Spark |\n",
    "| 4    | Amazon Web Services    |\n",
    "| 5    | SPSS |\n",
    "| 6    | Watson Studio     |\n",
    "| 7    | Oracle Database |\n",
    "| 8| Apache Hadoop   |"
   ]
  },
  {
   "cell_type": "markdown",
   "id": "5d3b39bf-b7bc-4b35-bfcc-70b7d7ef7de3",
   "metadata": {},
   "source": [
    "### Basic Arithmetic Expressions"
   ]
  },
  {
   "cell_type": "code",
   "execution_count": 6,
   "id": "596a60a6-df2d-4528-a35b-0c8f27d5256a",
   "metadata": {},
   "outputs": [
    {
     "name": "stdout",
     "output_type": "stream",
     "text": [
      "200\n",
      "30\n"
     ]
    }
   ],
   "source": [
    "def multiply(a,b):\n",
    "    print(a*b)\n",
    "def add(a,b):\n",
    "    print(a+b)\n",
    "multiply(10,20)\n",
    "add(10,20)\n"
   ]
  },
  {
   "cell_type": "code",
   "execution_count": 5,
   "id": "dd5efc58-c225-4a6d-871e-3b7d1b74413a",
   "metadata": {},
   "outputs": [
    {
     "name": "stdout",
     "output_type": "stream",
     "text": [
      "7.67 hours\n"
     ]
    }
   ],
   "source": [
    "def mins_to_hours(mins):\n",
    "    hours = mins/60\n",
    "    print(\"{} hours\".format(round(hours,2)))\n",
    "mins_to_hours(460)"
   ]
  },
  {
   "cell_type": "markdown",
   "id": "5b6f5d8f-67e0-4b14-af3f-58204dfc9b33",
   "metadata": {},
   "source": [
    "These are the list of objectives\n",
    "- Objective 1\n",
    "- Objective 2\n",
    "- Objective 3\n",
    "- Objective 4"
   ]
  },
  {
   "cell_type": "markdown",
   "id": "b5d439af-6a5a-4a22-b919-a2c10a55f4b8",
   "metadata": {},
   "source": [
    "Name: Karthik Mohan"
   ]
  }
 ],
 "metadata": {
  "kernelspec": {
   "display_name": "Python",
   "language": "python",
   "name": "conda-env-python-py"
  },
  "language_info": {
   "codemirror_mode": {
    "name": "ipython",
    "version": 3
   },
   "file_extension": ".py",
   "mimetype": "text/x-python",
   "name": "python",
   "nbconvert_exporter": "python",
   "pygments_lexer": "ipython3",
   "version": "3.7.12"
  }
 },
 "nbformat": 4,
 "nbformat_minor": 5
}
